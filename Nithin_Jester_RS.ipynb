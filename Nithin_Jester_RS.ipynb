{
 "cells": [
  {
   "cell_type": "code",
   "execution_count": 1,
   "metadata": {},
   "outputs": [],
   "source": [
    "## Importing libraries for Analysis and Visualization\n",
    "\n",
    "import numpy as np,pandas as pd\n",
    "import matplotlib.pyplot as plt, seaborn as sns\n",
    "%matplotlib inline"
   ]
  },
  {
   "cell_type": "code",
   "execution_count": 2,
   "metadata": {},
   "outputs": [
    {
     "data": {
      "text/html": [
       "<div>\n",
       "<style scoped>\n",
       "    .dataframe tbody tr th:only-of-type {\n",
       "        vertical-align: middle;\n",
       "    }\n",
       "\n",
       "    .dataframe tbody tr th {\n",
       "        vertical-align: top;\n",
       "    }\n",
       "\n",
       "    .dataframe thead th {\n",
       "        text-align: right;\n",
       "    }\n",
       "</style>\n",
       "<table border=\"1\" class=\"dataframe\">\n",
       "  <thead>\n",
       "    <tr style=\"text-align: right;\">\n",
       "      <th></th>\n",
       "      <th>Joke</th>\n",
       "    </tr>\n",
       "    <tr>\n",
       "      <th>item_id</th>\n",
       "      <th></th>\n",
       "    </tr>\n",
       "  </thead>\n",
       "  <tbody>\n",
       "    <tr>\n",
       "      <th>1</th>\n",
       "      <td>A man visits the doctor The doctor says \" I h...</td>\n",
       "    </tr>\n",
       "    <tr>\n",
       "      <th>2</th>\n",
       "      <td>This couple had an excellent relationship goi...</td>\n",
       "    </tr>\n",
       "    <tr>\n",
       "      <th>3</th>\n",
       "      <td>Q What  s  feet long and has  teeth A The fro...</td>\n",
       "    </tr>\n",
       "    <tr>\n",
       "      <th>4</th>\n",
       "      <td>Q What  s the difference between a man and a ...</td>\n",
       "    </tr>\n",
       "    <tr>\n",
       "      <th>5</th>\n",
       "      <td>Q What  s O J Simpson  s web address A Slash ...</td>\n",
       "    </tr>\n",
       "  </tbody>\n",
       "</table>\n",
       "</div>"
      ],
      "text/plain": [
       "                                                      Joke\n",
       "item_id                                                   \n",
       "1         A man visits the doctor The doctor says \" I h...\n",
       "2         This couple had an excellent relationship goi...\n",
       "3         Q What  s  feet long and has  teeth A The fro...\n",
       "4         Q What  s the difference between a man and a ...\n",
       "5         Q What  s O J Simpson  s web address A Slash ..."
      ]
     },
     "execution_count": 2,
     "metadata": {},
     "output_type": "execute_result"
    }
   ],
   "source": [
    "## Parsing unstructured text data in jester_items.dat file using regular expressions.\n",
    "\n",
    "import re\n",
    "\n",
    "with open('jester_items.dat','r') as fo:\n",
    "    x = fo.read()\n",
    "    lst = []\n",
    "    for joke in x.split('\\n\\n'):\n",
    "        j = re.sub(r'(\\<.+>)','',joke)\n",
    "        k = re.sub(r'\\W+',' ',j)\n",
    "        l = re.sub(r'\\d','',k).replace('quot','\"')\n",
    "        lst.append(l)\n",
    "        \n",
    "items_df = pd.DataFrame(lst)\n",
    "items_df['item_id'] = range(1,len(lst)+1)\n",
    "items_df.set_index('item_id',inplace=True)\n",
    "items_df.drop(151,inplace=True)\n",
    "items_df.rename(columns={0:'Joke'},inplace=True)\n",
    "items_df.head()"
   ]
  },
  {
   "cell_type": "code",
   "execution_count": 3,
   "metadata": {},
   "outputs": [
    {
     "data": {
      "text/html": [
       "<div>\n",
       "<style scoped>\n",
       "    .dataframe tbody tr th:only-of-type {\n",
       "        vertical-align: middle;\n",
       "    }\n",
       "\n",
       "    .dataframe tbody tr th {\n",
       "        vertical-align: top;\n",
       "    }\n",
       "\n",
       "    .dataframe thead th {\n",
       "        text-align: right;\n",
       "    }\n",
       "</style>\n",
       "<table border=\"1\" class=\"dataframe\">\n",
       "  <thead>\n",
       "    <tr style=\"text-align: right;\">\n",
       "      <th></th>\n",
       "      <th>user_id</th>\n",
       "      <th>item_id</th>\n",
       "      <th>rating</th>\n",
       "    </tr>\n",
       "  </thead>\n",
       "  <tbody>\n",
       "    <tr>\n",
       "      <th>0</th>\n",
       "      <td>1</td>\n",
       "      <td>5</td>\n",
       "      <td>0.219</td>\n",
       "    </tr>\n",
       "    <tr>\n",
       "      <th>1</th>\n",
       "      <td>1</td>\n",
       "      <td>7</td>\n",
       "      <td>-9.281</td>\n",
       "    </tr>\n",
       "    <tr>\n",
       "      <th>2</th>\n",
       "      <td>1</td>\n",
       "      <td>8</td>\n",
       "      <td>-9.281</td>\n",
       "    </tr>\n",
       "    <tr>\n",
       "      <th>3</th>\n",
       "      <td>1</td>\n",
       "      <td>13</td>\n",
       "      <td>-6.781</td>\n",
       "    </tr>\n",
       "    <tr>\n",
       "      <th>4</th>\n",
       "      <td>1</td>\n",
       "      <td>15</td>\n",
       "      <td>0.875</td>\n",
       "    </tr>\n",
       "  </tbody>\n",
       "</table>\n",
       "</div>"
      ],
      "text/plain": [
       "   user_id  item_id  rating\n",
       "0        1        5   0.219\n",
       "1        1        7  -9.281\n",
       "2        1        8  -9.281\n",
       "3        1       13  -6.781\n",
       "4        1       15   0.875"
      ]
     },
     "execution_count": 3,
     "metadata": {},
     "output_type": "execute_result"
    }
   ],
   "source": [
    "## Reading in Ratings df using pandas csv reader\n",
    "\n",
    "ratings_df = pd.read_csv('jester_ratings.dat',header=None,delimiter='\\t\\t',engine='python')\n",
    "ratings_df.rename(columns={0:'user_id',1:'item_id',2:'rating'},inplace=True)\n",
    "ratings_df.head()"
   ]
  },
  {
   "cell_type": "code",
   "execution_count": 4,
   "metadata": {},
   "outputs": [
    {
     "data": {
      "text/html": [
       "<div>\n",
       "<style scoped>\n",
       "    .dataframe tbody tr th:only-of-type {\n",
       "        vertical-align: middle;\n",
       "    }\n",
       "\n",
       "    .dataframe tbody tr th {\n",
       "        vertical-align: top;\n",
       "    }\n",
       "\n",
       "    .dataframe thead th {\n",
       "        text-align: right;\n",
       "    }\n",
       "</style>\n",
       "<table border=\"1\" class=\"dataframe\">\n",
       "  <thead>\n",
       "    <tr style=\"text-align: right;\">\n",
       "      <th></th>\n",
       "      <th>user_id</th>\n",
       "      <th>item_id</th>\n",
       "      <th>rating</th>\n",
       "      <th>Joke</th>\n",
       "    </tr>\n",
       "  </thead>\n",
       "  <tbody>\n",
       "    <tr>\n",
       "      <th>0</th>\n",
       "      <td>1</td>\n",
       "      <td>5</td>\n",
       "      <td>0.219</td>\n",
       "      <td>Q What  s O J Simpson  s web address A Slash ...</td>\n",
       "    </tr>\n",
       "    <tr>\n",
       "      <th>1</th>\n",
       "      <td>2</td>\n",
       "      <td>5</td>\n",
       "      <td>-9.688</td>\n",
       "      <td>Q What  s O J Simpson  s web address A Slash ...</td>\n",
       "    </tr>\n",
       "    <tr>\n",
       "      <th>2</th>\n",
       "      <td>3</td>\n",
       "      <td>5</td>\n",
       "      <td>-9.844</td>\n",
       "      <td>Q What  s O J Simpson  s web address A Slash ...</td>\n",
       "    </tr>\n",
       "    <tr>\n",
       "      <th>3</th>\n",
       "      <td>4</td>\n",
       "      <td>5</td>\n",
       "      <td>-5.812</td>\n",
       "      <td>Q What  s O J Simpson  s web address A Slash ...</td>\n",
       "    </tr>\n",
       "    <tr>\n",
       "      <th>4</th>\n",
       "      <td>5</td>\n",
       "      <td>5</td>\n",
       "      <td>6.906</td>\n",
       "      <td>Q What  s O J Simpson  s web address A Slash ...</td>\n",
       "    </tr>\n",
       "  </tbody>\n",
       "</table>\n",
       "</div>"
      ],
      "text/plain": [
       "   user_id  item_id  rating                                               Joke\n",
       "0        1        5   0.219   Q What  s O J Simpson  s web address A Slash ...\n",
       "1        2        5  -9.688   Q What  s O J Simpson  s web address A Slash ...\n",
       "2        3        5  -9.844   Q What  s O J Simpson  s web address A Slash ...\n",
       "3        4        5  -5.812   Q What  s O J Simpson  s web address A Slash ...\n",
       "4        5        5   6.906   Q What  s O J Simpson  s web address A Slash ..."
      ]
     },
     "execution_count": 4,
     "metadata": {},
     "output_type": "execute_result"
    }
   ],
   "source": [
    "## Combining items and user ratings\n",
    "\n",
    "jester_df = ratings_df.merge(items_df,on='item_id')\n",
    "jester_df.head()"
   ]
  },
  {
   "cell_type": "code",
   "execution_count": 5,
   "metadata": {},
   "outputs": [],
   "source": [
    "## Reducing size of Joke text to 25 characters for easy viewing.\n",
    "\n",
    "jester_df_original = jester_df.copy() ## Taking a copy before editing.\n",
    "\n",
    "jester_df['Joke'] = jester_df['Joke'].apply(lambda x: x[:25])"
   ]
  },
  {
   "cell_type": "code",
   "execution_count": 6,
   "metadata": {},
   "outputs": [],
   "source": [
    "# Grouping the jokes based on rating and no of ratings received and sorting to get the best jokes.\n",
    "\n",
    "best_jokes = jester_df.groupby('Joke').describe()['rating'][['count','mean']]\n",
    "best_jokes\n",
    "best_jokes.sort_values('mean',ascending=False,inplace=True) ## Sorting by mean rating\n",
    "\n",
    "## Filtering best jokes that has received a minimum of 5K ratings.\n",
    "\n",
    "best_jokes.columns = ['No.of.ratings','Mean']\n",
    "best_jokes = best_jokes[best_jokes['No.of.ratings']>5000]"
   ]
  },
  {
   "cell_type": "code",
   "execution_count": 7,
   "metadata": {
    "scrolled": false
   },
   "outputs": [
    {
     "data": {
      "text/plain": [
       "Joke\n",
       " This guy  s wife asks \"     0.483581\n",
       " A little boy goes to his    0.477822\n",
       " On the first day of coll    0.476141\n",
       " President Clinton looks     0.472623\n",
       " A group of girlfriends i    0.472552\n",
       "dtype: float64"
      ]
     },
     "execution_count": 7,
     "metadata": {},
     "output_type": "execute_result"
    }
   ],
   "source": [
    "## Finding jokes of similar ilk as rated by users - BASIC RECOMMENDER SYSTEM VIA CORRELATION\n",
    "\n",
    "joke_matrix = jester_df.pivot_table(index='user_id',columns='Joke',values='rating')\n",
    "\n",
    "top_joke = best_jokes.index[0] ## Finding the Top joke \n",
    "similar_to_topjoke = joke_matrix[top_joke] ## Checking Top Joke's category in matrix \n",
    "Top5_correlates_jokes_to_top_joke = joke_matrix.corrwith(similar_to_topjoke).sort_values(ascending=False)[1:6]\n",
    "Top5_correlates_jokes_to_top_joke"
   ]
  },
  {
   "cell_type": "markdown",
   "metadata": {},
   "source": [
    "**USING SURPRISE PACKAGE**"
   ]
  },
  {
   "cell_type": "code",
   "execution_count": 56,
   "metadata": {},
   "outputs": [],
   "source": [
    "from surprise import KNNBasic,KNNWithMeans,KNNWithZScore,SVD ## Models\n",
    "from surprise import Dataset,Reader,evaluate,GridSearch ## Data import and evaluation"
   ]
  },
  {
   "cell_type": "code",
   "execution_count": 23,
   "metadata": {},
   "outputs": [],
   "source": [
    "jester_surprise = jester_df_original.copy()\n",
    "jester_surprise.drop('Joke',axis=1,inplace=True)\n",
    "\n",
    "jester_surprise2 = jester_surprise.iloc[:4000,:] ## Had to be cut short to 4000 rows to avoid Memory Error from happening.\n",
    "#jester_surprise2.info()                     ## Surprise Documentation mentions standard use of 8 GB RAM system."
   ]
  },
  {
   "cell_type": "code",
   "execution_count": 25,
   "metadata": {},
   "outputs": [],
   "source": [
    "reader = Reader( rating_scale= [-10,10] )\n",
    "data = Dataset.load_from_df(jester_surprise2,reader=reader)\n",
    "data.split(n_folds=3)\n",
    "user_based_cf = KNNBasic(sim_options={'name':'Cosine','user_based':True})\n",
    "\n",
    "results = evaluate(user_based_cf,data)\n",
    "print(results)"
   ]
  },
  {
   "cell_type": "code",
   "execution_count": 35,
   "metadata": {},
   "outputs": [],
   "source": [
    "## Function tocheck multiple KNN based algos and results.\n",
    "\n",
    "def algo_type(model,decision=True):\n",
    "    algo = model(sim_options={'name':'Cosine','user_based':decision})\n",
    "    return evaluate(algo,data)\n",
    "\n",
    "algo_type(KNNBasic,False) ## Item Based Collaborative Filtering\n",
    "#algo_type(KNNWithMeans,True) ## User Based CF taking into account mean ratings of each user.\n",
    "#algo_type(KNNWithZScore,False) ## Item Based CF taking into account z score normalized ratings of each user."
   ]
  },
  {
   "cell_type": "code",
   "execution_count": 51,
   "metadata": {
    "collapsed": true
   },
   "outputs": [
    {
     "name": "stderr",
     "output_type": "stream",
     "text": [
      "C:\\Users\\Nithin\\Anaconda3\\lib\\site-packages\\surprise\\evaluate.py:232: UserWarning: The GridSearch() class is deprecated. Please use model_selection.GridSearchCV instead.\n",
      "  'model_selection.GridSearchCV instead.', UserWarning)\n",
      "C:\\Users\\Nithin\\Anaconda3\\lib\\site-packages\\surprise\\evaluate.py:66: UserWarning: The evaluate() method is deprecated. Please use model_selection.cross_validate() instead.\n",
      "  'model_selection.cross_validate() instead.', UserWarning)\n",
      "C:\\Users\\Nithin\\Anaconda3\\lib\\site-packages\\surprise\\dataset.py:193: UserWarning: Using data.split() or using load_from_folds() without using a CV iterator is now deprecated. \n",
      "  UserWarning)\n"
     ]
    },
    {
     "name": "stdout",
     "output_type": "stream",
     "text": [
      "Running grid search for the following parameter combinations:\n",
      "{'min_k': 2, 'k': 20}\n",
      "{'min_k': 2, 'k': 30}\n",
      "{'min_k': 2, 'k': 40}\n",
      "{'min_k': 4, 'k': 20}\n",
      "{'min_k': 4, 'k': 30}\n",
      "{'min_k': 4, 'k': 40}\n",
      "{'min_k': 6, 'k': 20}\n",
      "{'min_k': 6, 'k': 30}\n",
      "{'min_k': 6, 'k': 40}\n",
      "Computing the msd similarity matrix...\n",
      "Done computing similarity matrix.\n",
      "Computing the msd similarity matrix...\n",
      "Done computing similarity matrix.\n",
      "Computing the msd similarity matrix...\n",
      "Done computing similarity matrix.\n"
     ]
    },
    {
     "name": "stderr",
     "output_type": "stream",
     "text": [
      "C:\\Users\\Nithin\\Anaconda3\\lib\\site-packages\\surprise\\evaluate.py:66: UserWarning: The evaluate() method is deprecated. Please use model_selection.cross_validate() instead.\n",
      "  'model_selection.cross_validate() instead.', UserWarning)\n",
      "C:\\Users\\Nithin\\Anaconda3\\lib\\site-packages\\surprise\\dataset.py:193: UserWarning: Using data.split() or using load_from_folds() without using a CV iterator is now deprecated. \n",
      "  UserWarning)\n"
     ]
    },
    {
     "name": "stdout",
     "output_type": "stream",
     "text": [
      "Computing the msd similarity matrix...\n",
      "Done computing similarity matrix.\n",
      "Computing the msd similarity matrix...\n",
      "Done computing similarity matrix.\n",
      "Computing the msd similarity matrix...\n",
      "Done computing similarity matrix.\n"
     ]
    },
    {
     "name": "stderr",
     "output_type": "stream",
     "text": [
      "C:\\Users\\Nithin\\Anaconda3\\lib\\site-packages\\surprise\\evaluate.py:66: UserWarning: The evaluate() method is deprecated. Please use model_selection.cross_validate() instead.\n",
      "  'model_selection.cross_validate() instead.', UserWarning)\n",
      "C:\\Users\\Nithin\\Anaconda3\\lib\\site-packages\\surprise\\dataset.py:193: UserWarning: Using data.split() or using load_from_folds() without using a CV iterator is now deprecated. \n",
      "  UserWarning)\n"
     ]
    },
    {
     "name": "stdout",
     "output_type": "stream",
     "text": [
      "Computing the msd similarity matrix...\n",
      "Done computing similarity matrix.\n",
      "Computing the msd similarity matrix...\n",
      "Done computing similarity matrix.\n",
      "Computing the msd similarity matrix...\n",
      "Done computing similarity matrix.\n"
     ]
    },
    {
     "name": "stderr",
     "output_type": "stream",
     "text": [
      "C:\\Users\\Nithin\\Anaconda3\\lib\\site-packages\\surprise\\evaluate.py:66: UserWarning: The evaluate() method is deprecated. Please use model_selection.cross_validate() instead.\n",
      "  'model_selection.cross_validate() instead.', UserWarning)\n",
      "C:\\Users\\Nithin\\Anaconda3\\lib\\site-packages\\surprise\\dataset.py:193: UserWarning: Using data.split() or using load_from_folds() without using a CV iterator is now deprecated. \n",
      "  UserWarning)\n"
     ]
    },
    {
     "name": "stdout",
     "output_type": "stream",
     "text": [
      "Computing the msd similarity matrix...\n",
      "Done computing similarity matrix.\n",
      "Computing the msd similarity matrix...\n",
      "Done computing similarity matrix.\n",
      "Computing the msd similarity matrix...\n",
      "Done computing similarity matrix.\n"
     ]
    },
    {
     "name": "stderr",
     "output_type": "stream",
     "text": [
      "C:\\Users\\Nithin\\Anaconda3\\lib\\site-packages\\surprise\\evaluate.py:66: UserWarning: The evaluate() method is deprecated. Please use model_selection.cross_validate() instead.\n",
      "  'model_selection.cross_validate() instead.', UserWarning)\n",
      "C:\\Users\\Nithin\\Anaconda3\\lib\\site-packages\\surprise\\dataset.py:193: UserWarning: Using data.split() or using load_from_folds() without using a CV iterator is now deprecated. \n",
      "  UserWarning)\n"
     ]
    },
    {
     "name": "stdout",
     "output_type": "stream",
     "text": [
      "Computing the msd similarity matrix...\n",
      "Done computing similarity matrix.\n",
      "Computing the msd similarity matrix...\n",
      "Done computing similarity matrix.\n",
      "Computing the msd similarity matrix...\n",
      "Done computing similarity matrix.\n"
     ]
    },
    {
     "name": "stderr",
     "output_type": "stream",
     "text": [
      "C:\\Users\\Nithin\\Anaconda3\\lib\\site-packages\\surprise\\evaluate.py:66: UserWarning: The evaluate() method is deprecated. Please use model_selection.cross_validate() instead.\n",
      "  'model_selection.cross_validate() instead.', UserWarning)\n",
      "C:\\Users\\Nithin\\Anaconda3\\lib\\site-packages\\surprise\\dataset.py:193: UserWarning: Using data.split() or using load_from_folds() without using a CV iterator is now deprecated. \n",
      "  UserWarning)\n"
     ]
    },
    {
     "name": "stdout",
     "output_type": "stream",
     "text": [
      "Computing the msd similarity matrix...\n",
      "Done computing similarity matrix.\n",
      "Computing the msd similarity matrix...\n",
      "Done computing similarity matrix.\n",
      "Computing the msd similarity matrix...\n",
      "Done computing similarity matrix.\n"
     ]
    },
    {
     "name": "stderr",
     "output_type": "stream",
     "text": [
      "C:\\Users\\Nithin\\Anaconda3\\lib\\site-packages\\surprise\\evaluate.py:66: UserWarning: The evaluate() method is deprecated. Please use model_selection.cross_validate() instead.\n",
      "  'model_selection.cross_validate() instead.', UserWarning)\n",
      "C:\\Users\\Nithin\\Anaconda3\\lib\\site-packages\\surprise\\dataset.py:193: UserWarning: Using data.split() or using load_from_folds() without using a CV iterator is now deprecated. \n",
      "  UserWarning)\n"
     ]
    },
    {
     "name": "stdout",
     "output_type": "stream",
     "text": [
      "Computing the msd similarity matrix...\n",
      "Done computing similarity matrix.\n",
      "Computing the msd similarity matrix...\n",
      "Done computing similarity matrix.\n",
      "Computing the msd similarity matrix...\n",
      "Done computing similarity matrix.\n"
     ]
    },
    {
     "name": "stderr",
     "output_type": "stream",
     "text": [
      "C:\\Users\\Nithin\\Anaconda3\\lib\\site-packages\\surprise\\evaluate.py:66: UserWarning: The evaluate() method is deprecated. Please use model_selection.cross_validate() instead.\n",
      "  'model_selection.cross_validate() instead.', UserWarning)\n",
      "C:\\Users\\Nithin\\Anaconda3\\lib\\site-packages\\surprise\\dataset.py:193: UserWarning: Using data.split() or using load_from_folds() without using a CV iterator is now deprecated. \n",
      "  UserWarning)\n"
     ]
    },
    {
     "name": "stdout",
     "output_type": "stream",
     "text": [
      "Computing the msd similarity matrix...\n",
      "Done computing similarity matrix.\n",
      "Computing the msd similarity matrix...\n",
      "Done computing similarity matrix.\n",
      "Computing the msd similarity matrix...\n",
      "Done computing similarity matrix.\n"
     ]
    },
    {
     "name": "stderr",
     "output_type": "stream",
     "text": [
      "C:\\Users\\Nithin\\Anaconda3\\lib\\site-packages\\surprise\\evaluate.py:66: UserWarning: The evaluate() method is deprecated. Please use model_selection.cross_validate() instead.\n",
      "  'model_selection.cross_validate() instead.', UserWarning)\n",
      "C:\\Users\\Nithin\\Anaconda3\\lib\\site-packages\\surprise\\dataset.py:193: UserWarning: Using data.split() or using load_from_folds() without using a CV iterator is now deprecated. \n",
      "  UserWarning)\n"
     ]
    },
    {
     "name": "stdout",
     "output_type": "stream",
     "text": [
      "Computing the msd similarity matrix...\n",
      "Done computing similarity matrix.\n",
      "Computing the msd similarity matrix...\n",
      "Done computing similarity matrix.\n",
      "Computing the msd similarity matrix...\n",
      "Done computing similarity matrix.\n",
      "Resulsts:\n",
      "{'min_k': 2, 'k': 20}\n",
      "{'RMSE': 5.81681554990229, 'MAE': 4.992321811134398}\n",
      "----------\n",
      "{'min_k': 2, 'k': 30}\n",
      "{'RMSE': 5.809542150997331, 'MAE': 4.988168074138952}\n",
      "----------\n",
      "{'min_k': 2, 'k': 40}\n",
      "{'RMSE': 5.806312399728618, 'MAE': 4.988011914544899}\n",
      "----------\n",
      "{'min_k': 4, 'k': 20}\n",
      "{'RMSE': 5.81681554990229, 'MAE': 4.992321811134398}\n",
      "----------\n",
      "{'min_k': 4, 'k': 30}\n",
      "{'RMSE': 5.809542150997331, 'MAE': 4.988168074138952}\n",
      "----------\n",
      "{'min_k': 4, 'k': 40}\n",
      "{'RMSE': 5.806312399728618, 'MAE': 4.988011914544899}\n",
      "----------\n",
      "{'min_k': 6, 'k': 20}\n",
      "{'RMSE': 5.81681554990229, 'MAE': 4.992321811134398}\n",
      "----------\n",
      "{'min_k': 6, 'k': 30}\n",
      "{'RMSE': 5.809542150997331, 'MAE': 4.988168074138952}\n",
      "----------\n",
      "{'min_k': 6, 'k': 40}\n",
      "{'RMSE': 5.806312399728618, 'MAE': 4.988011914544899}\n",
      "----------\n"
     ]
    }
   ],
   "source": [
    "## Applying Gridsearch\n",
    "\n",
    "cv = GridSearch(KNNBasic,param_grid={'min_k':[2,4,6],'k':[20,30,40]})\n",
    "\n",
    "cv.evaluate(data)\n",
    "\n",
    "#cv.best_score\n",
    "#cv.best_params"
   ]
  }
 ],
 "metadata": {
  "kernelspec": {
   "display_name": "Python 3",
   "language": "python",
   "name": "python3"
  },
  "language_info": {
   "codemirror_mode": {
    "name": "ipython",
    "version": 3
   },
   "file_extension": ".py",
   "mimetype": "text/x-python",
   "name": "python",
   "nbconvert_exporter": "python",
   "pygments_lexer": "ipython3",
   "version": "3.7.1"
  }
 },
 "nbformat": 4,
 "nbformat_minor": 2
}
