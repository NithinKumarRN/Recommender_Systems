{
 "cells": [
  {
   "cell_type": "code",
   "execution_count": 1,
   "metadata": {},
   "outputs": [],
   "source": [
    "## LOADING IN LIBRARIES\n",
    "\n",
    "from surprise import KNNWithZScore\n",
    "from surprise import Dataset,Reader\n",
    "\n",
    "import pandas as pd"
   ]
  },
  {
   "cell_type": "code",
   "execution_count": 2,
   "metadata": {},
   "outputs": [
    {
     "data": {
      "text/html": [
       "<div>\n",
       "<style scoped>\n",
       "    .dataframe tbody tr th:only-of-type {\n",
       "        vertical-align: middle;\n",
       "    }\n",
       "\n",
       "    .dataframe tbody tr th {\n",
       "        vertical-align: top;\n",
       "    }\n",
       "\n",
       "    .dataframe thead th {\n",
       "        text-align: right;\n",
       "    }\n",
       "</style>\n",
       "<table border=\"1\" class=\"dataframe\">\n",
       "  <thead>\n",
       "    <tr style=\"text-align: right;\">\n",
       "      <th></th>\n",
       "      <th>user_id</th>\n",
       "      <th>item_id</th>\n",
       "      <th>rating</th>\n",
       "    </tr>\n",
       "  </thead>\n",
       "  <tbody>\n",
       "    <tr>\n",
       "      <th>0</th>\n",
       "      <td>196</td>\n",
       "      <td>242</td>\n",
       "      <td>3</td>\n",
       "    </tr>\n",
       "    <tr>\n",
       "      <th>1</th>\n",
       "      <td>186</td>\n",
       "      <td>302</td>\n",
       "      <td>3</td>\n",
       "    </tr>\n",
       "    <tr>\n",
       "      <th>2</th>\n",
       "      <td>22</td>\n",
       "      <td>377</td>\n",
       "      <td>1</td>\n",
       "    </tr>\n",
       "    <tr>\n",
       "      <th>3</th>\n",
       "      <td>244</td>\n",
       "      <td>51</td>\n",
       "      <td>2</td>\n",
       "    </tr>\n",
       "    <tr>\n",
       "      <th>4</th>\n",
       "      <td>166</td>\n",
       "      <td>346</td>\n",
       "      <td>1</td>\n",
       "    </tr>\n",
       "  </tbody>\n",
       "</table>\n",
       "</div>"
      ],
      "text/plain": [
       "   user_id  item_id  rating\n",
       "0      196      242       3\n",
       "1      186      302       3\n",
       "2       22      377       1\n",
       "3      244       51       2\n",
       "4      166      346       1"
      ]
     },
     "execution_count": 2,
     "metadata": {},
     "output_type": "execute_result"
    }
   ],
   "source": [
    "## IMPORTING MOVIE LENS DATASET AND PROCESSING INTO SURPRISE DATA FORMAT.\n",
    "\n",
    "ml_df = pd.read_csv('C:\\\\Users\\\\Nithin\\\\My_Courses\\\\Top3_Movie_Recommendations_CF\\\\ml-100k\\\\u.data',\n",
    "               header=None,delimiter='\\t')\n",
    "ml_df.columns = ['user_id','item_id','rating','timestamp']\n",
    "\n",
    "ml_original = ml_df.copy()\n",
    "ml_df.drop('timestamp',axis=1,inplace=True)\n",
    "ml_df.head()"
   ]
  },
  {
   "cell_type": "code",
   "execution_count": 3,
   "metadata": {},
   "outputs": [],
   "source": [
    "## Preparing data in built in Surprise Dataset format.\n",
    "\n",
    "reader = Reader()\n",
    "\n",
    "data = Dataset.load_from_df(ml_df,reader)"
   ]
  },
  {
   "cell_type": "code",
   "execution_count": 4,
   "metadata": {},
   "outputs": [],
   "source": [
    "# Creating train and test sets\n",
    "\n",
    "train_set = data.build_full_trainset()\n",
    "test_set = train_set.build_anti_testset()"
   ]
  },
  {
   "cell_type": "code",
   "execution_count": 5,
   "metadata": {},
   "outputs": [
    {
     "name": "stderr",
     "output_type": "stream",
     "text": [
      "C:\\Users\\Nithin\\Anaconda3\\lib\\site-packages\\surprise\\prediction_algorithms\\algo_base.py:51: UserWarning: train() is deprecated. Use fit() instead\n",
      "  warnings.warn('train() is deprecated. Use fit() instead', UserWarning)\n"
     ]
    },
    {
     "name": "stdout",
     "output_type": "stream",
     "text": [
      "Computing the cosine similarity matrix...\n",
      "Done computing similarity matrix.\n"
     ]
    }
   ],
   "source": [
    "## Model training and predictions\n",
    "\n",
    "knn = KNNWithZScore(sim_options={'name':'Cosine',\n",
    "                                'user_based':False})\n",
    "\n",
    "knn.train(train_set)\n",
    "\n",
    "predictions = knn.test(test_set)\n"
   ]
  },
  {
   "cell_type": "code",
   "execution_count": 10,
   "metadata": {},
   "outputs": [],
   "source": [
    "## To pull out Top3 recommendations for each user.\n",
    "\n",
    "from collections import defaultdict\n",
    "\n",
    "def top_3_recommendations(predictions,n=3):\n",
    "    \n",
    "    top_n = defaultdict(list)\n",
    "    \n",
    "    for uid,iid,true_rating,est,_ in predictions:\n",
    "        top_n[uid].append((iid,est))\n",
    "    \n",
    "    for uid,user_ratings in top_n.items():\n",
    "        user_ratings.sort(key=lambda x: x[1],reverse=True)\n",
    "        top_n[uid] = user_ratings[:n]\n",
    "    \n",
    "    return top_n\n",
    "\n",
    "recommended_items_to_user = top_3_recommendations(predictions)\n",
    "#recommended_items_to_user"
   ]
  },
  {
   "cell_type": "code",
   "execution_count": 11,
   "metadata": {},
   "outputs": [],
   "source": [
    "## Parsing u.Item file.\n",
    "\n",
    "def id_to_movie_map(filename):\n",
    "    with open(filename,'r') as fo:\n",
    "        x = fo.read()\n",
    "    im = {}\n",
    "    for line in x.splitlines():\n",
    "        im[eval(line.split('|')[0])] = line.split('|')[1]\n",
    "    \n",
    "    return im\n",
    "\n",
    "mapper = id_to_movie_map('C:\\\\Users\\\\Nithin\\\\My_Courses\\\\Top3_Movie_Recommendations_CF\\\\ml-100k\\\\u.item')\n",
    "\n",
    "#print(mapper)"
   ]
  },
  {
   "cell_type": "code",
   "execution_count": 8,
   "metadata": {},
   "outputs": [],
   "source": [
    "# To easily visualize using print method.\n",
    "\n",
    "##for uid, user_ratings in recommended_items_to_user.items():\n",
    "##    print(uid, [mapper[iid] for (iid, _) in user_ratings])"
   ]
  },
  {
   "cell_type": "code",
   "execution_count": 9,
   "metadata": {},
   "outputs": [
    {
     "data": {
      "text/html": [
       "<div>\n",
       "<style scoped>\n",
       "    .dataframe tbody tr th:only-of-type {\n",
       "        vertical-align: middle;\n",
       "    }\n",
       "\n",
       "    .dataframe tbody tr th {\n",
       "        vertical-align: top;\n",
       "    }\n",
       "\n",
       "    .dataframe thead th {\n",
       "        text-align: right;\n",
       "    }\n",
       "</style>\n",
       "<table border=\"1\" class=\"dataframe\">\n",
       "  <thead>\n",
       "    <tr style=\"text-align: right;\">\n",
       "      <th></th>\n",
       "      <th>Movies</th>\n",
       "      <th>Movie_No1</th>\n",
       "      <th>Movie_No2</th>\n",
       "      <th>Movie_No3</th>\n",
       "    </tr>\n",
       "    <tr>\n",
       "      <th>User_ID</th>\n",
       "      <th></th>\n",
       "      <th></th>\n",
       "      <th></th>\n",
       "      <th></th>\n",
       "    </tr>\n",
       "  </thead>\n",
       "  <tbody>\n",
       "    <tr>\n",
       "      <th>196</th>\n",
       "      <td>Prefontaine (1997)|Great Day in Harlem, A (199...</td>\n",
       "      <td>Prefontaine (1997)</td>\n",
       "      <td>Great Day in Harlem, A (1994)</td>\n",
       "      <td>Aiqing wansui (1994)</td>\n",
       "    </tr>\n",
       "    <tr>\n",
       "      <th>186</th>\n",
       "      <td>Prefontaine (1997)|Great Day in Harlem, A (199...</td>\n",
       "      <td>Prefontaine (1997)</td>\n",
       "      <td>Great Day in Harlem, A (1994)</td>\n",
       "      <td>Saint of Fort Washington, The (1993)</td>\n",
       "    </tr>\n",
       "    <tr>\n",
       "      <th>22</th>\n",
       "      <td>Prefontaine (1997)|Santa with Muscles (1996)|G...</td>\n",
       "      <td>Prefontaine (1997)</td>\n",
       "      <td>Santa with Muscles (1996)</td>\n",
       "      <td>Great Day in Harlem, A (1994)</td>\n",
       "    </tr>\n",
       "    <tr>\n",
       "      <th>244</th>\n",
       "      <td>Prefontaine (1997)|Santa with Muscles (1996)|G...</td>\n",
       "      <td>Prefontaine (1997)</td>\n",
       "      <td>Santa with Muscles (1996)</td>\n",
       "      <td>Great Day in Harlem, A (1994)</td>\n",
       "    </tr>\n",
       "    <tr>\n",
       "      <th>166</th>\n",
       "      <td>Prefontaine (1997)|Great Day in Harlem, A (199...</td>\n",
       "      <td>Prefontaine (1997)</td>\n",
       "      <td>Great Day in Harlem, A (1994)</td>\n",
       "      <td>Star Kid (1997)</td>\n",
       "    </tr>\n",
       "  </tbody>\n",
       "</table>\n",
       "</div>"
      ],
      "text/plain": [
       "                                                    Movies  \\\n",
       "User_ID                                                      \n",
       "196      Prefontaine (1997)|Great Day in Harlem, A (199...   \n",
       "186      Prefontaine (1997)|Great Day in Harlem, A (199...   \n",
       "22       Prefontaine (1997)|Santa with Muscles (1996)|G...   \n",
       "244      Prefontaine (1997)|Santa with Muscles (1996)|G...   \n",
       "166      Prefontaine (1997)|Great Day in Harlem, A (199...   \n",
       "\n",
       "                  Movie_No1                      Movie_No2  \\\n",
       "User_ID                                                      \n",
       "196      Prefontaine (1997)  Great Day in Harlem, A (1994)   \n",
       "186      Prefontaine (1997)  Great Day in Harlem, A (1994)   \n",
       "22       Prefontaine (1997)      Santa with Muscles (1996)   \n",
       "244      Prefontaine (1997)      Santa with Muscles (1996)   \n",
       "166      Prefontaine (1997)  Great Day in Harlem, A (1994)   \n",
       "\n",
       "                                    Movie_No3  \n",
       "User_ID                                        \n",
       "196                      Aiqing wansui (1994)  \n",
       "186      Saint of Fort Washington, The (1993)  \n",
       "22              Great Day in Harlem, A (1994)  \n",
       "244             Great Day in Harlem, A (1994)  \n",
       "166                           Star Kid (1997)  "
      ]
     },
     "execution_count": 9,
     "metadata": {},
     "output_type": "execute_result"
    }
   ],
   "source": [
    "## VISUALIZING IN A DATAFRAME\n",
    "\n",
    "## Mapping Ids to Movie Names.\n",
    "\n",
    "from collections import OrderedDict\n",
    "movies = OrderedDict()\n",
    "for uid,recommendations in recommended_items_to_user.items():\n",
    "    lst = []\n",
    "    for i in recommendations:\n",
    "        lst.append(mapper[i[0]])\n",
    "    \n",
    "    movies[uid] = '|'.join(lst)\n",
    "\n",
    "### CREATING DATAFRAME\n",
    "\n",
    "Top3_Movie_Recommendations = pd.DataFrame(index=movies.keys(),data=list(movies.values()))\n",
    "Top3_Movie_Recommendations = Top3_Movie_Recommendations.iloc[:-1]\n",
    "Top3_Movie_Recommendations.columns = ['Movies']\n",
    "Top3_Movie_Recommendations.index.rename('User_ID',inplace=True)\n",
    "\n",
    "for index,movie_no in enumerate(['Movie_No1', 'Movie_No2', 'Movie_No3']):\n",
    "    Top3_Movie_Recommendations[movie_no] = Top3_Movie_Recommendations.Movies.apply(lambda x:x.split('|')[index])\n",
    "\n",
    "Top3_Movie_Recommendations.drop('Movies',axis=1)\n",
    "Top3_Movie_Recommendations.head() "
   ]
  }
 ],
 "metadata": {
  "kernelspec": {
   "display_name": "Python 3",
   "language": "python",
   "name": "python3"
  },
  "language_info": {
   "codemirror_mode": {
    "name": "ipython",
    "version": 3
   },
   "file_extension": ".py",
   "mimetype": "text/x-python",
   "name": "python",
   "nbconvert_exporter": "python",
   "pygments_lexer": "ipython3",
   "version": "3.7.0"
  }
 },
 "nbformat": 4,
 "nbformat_minor": 2
}
